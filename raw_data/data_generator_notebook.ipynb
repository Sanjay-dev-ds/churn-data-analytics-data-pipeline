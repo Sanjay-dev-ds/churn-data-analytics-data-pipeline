{
 "cells": [
  {
   "cell_type": "code",
   "execution_count": 16,
   "id": "c0d567a3-72e2-439a-8c18-b22075377e6e",
   "metadata": {},
   "outputs": [],
   "source": [
    "#!pip install openpyxl"
   ]
  },
  {
   "cell_type": "code",
   "execution_count": 98,
   "id": "bb4a6eca-7445-4e5b-b1e7-0b3a1608c494",
   "metadata": {},
   "outputs": [],
   "source": [
    "import pandas as pd\n",
    "import openpyxl\n",
    "from datetime import datetime"
   ]
  },
  {
   "cell_type": "code",
   "execution_count": 21,
   "id": "37bcaa8a-ac60-41e3-b427-a0f62d0d8c3f",
   "metadata": {},
   "outputs": [],
   "source": [
    "file_path = 'Telco_customer_churn.xlsx'"
   ]
  },
  {
   "cell_type": "code",
   "execution_count": 85,
   "id": "91d697e1-1682-4df0-9472-e2c8092a332d",
   "metadata": {},
   "outputs": [],
   "source": [
    "raw_df = pd.read_excel(file_path)"
   ]
  },
  {
   "cell_type": "code",
   "execution_count": 30,
   "id": "c97727ee-754d-4e2b-9880-59da0d3b03c3",
   "metadata": {},
   "outputs": [],
   "source": [
    "from sqlalchemy import create_engine"
   ]
  },
  {
   "cell_type": "code",
   "execution_count": 102,
   "id": "c29b50ab-a4dc-400c-8ee5-b5c98b657547",
   "metadata": {},
   "outputs": [],
   "source": [
    "db_name = 'telco'\n",
    "db_user = 'telco'\n",
    "db_password = 'Telco$123'\n",
    "db_host = 'telco.c3e6o080ulrl.us-east-1.rds.amazonaws.com'"
   ]
  },
  {
   "cell_type": "code",
   "execution_count": 103,
   "id": "815fc5bf-53ba-44db-992b-21fc1d05e1f3",
   "metadata": {},
   "outputs": [],
   "source": [
    "engine = create_engine(f'postgresql+psycopg2://{db_user}:{db_password}@{db_host}/{db_name}')"
   ]
  },
  {
   "cell_type": "code",
   "execution_count": 107,
   "id": "a7af4e78-aa29-41da-9553-ee6bc6de559e",
   "metadata": {},
   "outputs": [],
   "source": [
    "first_index = 0 \n",
    "offset =  0.05\n",
    "df_sample_index = raw_df.index[int(len(raw_df) * first_index):int(len(raw_df) * offset)]\n",
    "df_sample = raw_df.loc[df_sample_index].copy()\n",
    "df_sample['record_modified'] = datetime.now()"
   ]
  },
  {
   "cell_type": "code",
   "execution_count": 106,
   "id": "1547b7c3-5ca7-461b-ab9b-a80ea6033465",
   "metadata": {},
   "outputs": [
    {
     "data": {
      "text/plain": [
       "352"
      ]
     },
     "execution_count": 106,
     "metadata": {},
     "output_type": "execute_result"
    }
   ],
   "source": [
    "df_sample.to_sql('telco_customr_churn_data', con=engine, if_exists='append', index=False,schema = 'telco_schema')"
   ]
  },
  {
   "cell_type": "code",
   "execution_count": 86,
   "id": "4f579f48-1645-45d9-9454-13e77e261566",
   "metadata": {},
   "outputs": [],
   "source": [
    "# table_list = ['customer', 'service', 'billing', 'churn']\n",
    "# first_index = 0 \n",
    "# offset =  0.1\n",
    "\n",
    "\n",
    "# for table in table_list:\n",
    "#     df = eval(table + '_df')\n",
    "#     print(len(df))\n",
    "#     print(f\"First few rows of {table} table:\")\n",
    "#     df_sample = df[int(len(df) * first_index):int(len(df) * offset)]  \n",
    "#     print(df.head())\n",
    "#     print(len(df_sample))\n"
   ]
  }
 ],
 "metadata": {
  "kernelspec": {
   "display_name": "Python 3 (ipykernel)",
   "language": "python",
   "name": "python3"
  },
  "language_info": {
   "codemirror_mode": {
    "name": "ipython",
    "version": 3
   },
   "file_extension": ".py",
   "mimetype": "text/x-python",
   "name": "python",
   "nbconvert_exporter": "python",
   "pygments_lexer": "ipython3",
   "version": "3.10.8"
  }
 },
 "nbformat": 4,
 "nbformat_minor": 5
}
