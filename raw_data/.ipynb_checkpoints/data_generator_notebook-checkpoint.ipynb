{
 "cells": [
  {
   "cell_type": "markdown",
   "id": "bda2aa72-ce48-4847-87a2-15a4d858b2c2",
   "metadata": {},
   "source": [
    "## Install Libraries and fetch data from excel"
   ]
  },
  {
   "cell_type": "code",
   "execution_count": 16,
   "id": "c0d567a3-72e2-439a-8c18-b22075377e6e",
   "metadata": {},
   "outputs": [],
   "source": [
    "!pip install openpyxl\n",
    "!pip install sqlalchemy"
   ]
  },
  {
   "cell_type": "code",
   "execution_count": 1,
   "id": "bb4a6eca-7445-4e5b-b1e7-0b3a1608c494",
   "metadata": {},
   "outputs": [],
   "source": [
    "import pandas as pd\n",
    "import openpyxl\n",
    "from datetime import datetime\n",
    "from sqlalchemy import create_engine"
   ]
  },
  {
   "cell_type": "code",
   "execution_count": 2,
   "id": "37bcaa8a-ac60-41e3-b427-a0f62d0d8c3f",
   "metadata": {},
   "outputs": [],
   "source": [
    "file_path = 'Telco_customer_churn.xlsx'"
   ]
  },
  {
   "cell_type": "code",
   "execution_count": 3,
   "id": "91d697e1-1682-4df0-9472-e2c8092a332d",
   "metadata": {},
   "outputs": [],
   "source": [
    "raw_df = pd.read_excel(file_path)"
   ]
  },
  {
   "cell_type": "code",
   "execution_count": 1,
   "id": "c29b50ab-a4dc-400c-8ee5-b5c98b657547",
   "metadata": {},
   "outputs": [],
   "source": [
    "db_name = 'YOUR DB NAME'\n",
    "db_user = 'YOUR DB USER'\n",
    "db_password = 'YOUR DB PW'\n",
    "db_host = 'YOUR DB HOST'"
   ]
  },
  {
   "cell_type": "code",
   "execution_count": 103,
   "id": "815fc5bf-53ba-44db-992b-21fc1d05e1f3",
   "metadata": {},
   "outputs": [],
   "source": [
    "engine = create_engine(f'postgresql+psycopg2://{db_user}:{db_password}@{db_host}/{db_name}')"
   ]
  },
  {
   "cell_type": "markdown",
   "id": "807159ef-9f83-4be9-bda6-cb3baff7a175",
   "metadata": {},
   "source": [
    "## Load 5 % of raw data into RDS (Incrementallly)"
   ]
  },
  {
   "cell_type": "code",
   "execution_count": 5,
   "id": "a7af4e78-aa29-41da-9553-ee6bc6de559e",
   "metadata": {},
   "outputs": [],
   "source": [
    "first_index = 0 \n",
    "offset =  0.05\n",
    "df_sample_index = raw_df.index[int(len(raw_df) * first_index):int(len(raw_df) * offset)]\n",
    "df_sample = raw_df.loc[df_sample_index].copy()\n",
    "df_sample['record_modified'] = datetime.now()"
   ]
  },
  {
   "cell_type": "code",
   "execution_count": 6,
   "id": "21df8b15-4ed3-4e30-a5c3-d23342d2df33",
   "metadata": {},
   "outputs": [
    {
     "data": {
      "text/html": [
       "<div>\n",
       "<style scoped>\n",
       "    .dataframe tbody tr th:only-of-type {\n",
       "        vertical-align: middle;\n",
       "    }\n",
       "\n",
       "    .dataframe tbody tr th {\n",
       "        vertical-align: top;\n",
       "    }\n",
       "\n",
       "    .dataframe thead th {\n",
       "        text-align: right;\n",
       "    }\n",
       "</style>\n",
       "<table border=\"1\" class=\"dataframe\">\n",
       "  <thead>\n",
       "    <tr style=\"text-align: right;\">\n",
       "      <th></th>\n",
       "      <th>CustomerID</th>\n",
       "      <th>Count</th>\n",
       "      <th>Country</th>\n",
       "      <th>State</th>\n",
       "      <th>City</th>\n",
       "      <th>Zip Code</th>\n",
       "      <th>Lat Long</th>\n",
       "      <th>Latitude</th>\n",
       "      <th>Longitude</th>\n",
       "      <th>Gender</th>\n",
       "      <th>...</th>\n",
       "      <th>Paperless Billing</th>\n",
       "      <th>Payment Method</th>\n",
       "      <th>Monthly Charges</th>\n",
       "      <th>Total Charges</th>\n",
       "      <th>Churn Label</th>\n",
       "      <th>Churn Value</th>\n",
       "      <th>Churn Score</th>\n",
       "      <th>CLTV</th>\n",
       "      <th>Churn Reason</th>\n",
       "      <th>record_modified</th>\n",
       "    </tr>\n",
       "  </thead>\n",
       "  <tbody>\n",
       "    <tr>\n",
       "      <th>0</th>\n",
       "      <td>3668-QPYBK</td>\n",
       "      <td>1</td>\n",
       "      <td>United States</td>\n",
       "      <td>California</td>\n",
       "      <td>Los Angeles</td>\n",
       "      <td>90003</td>\n",
       "      <td>33.964131, -118.272783</td>\n",
       "      <td>33.964131</td>\n",
       "      <td>-118.272783</td>\n",
       "      <td>Male</td>\n",
       "      <td>...</td>\n",
       "      <td>Yes</td>\n",
       "      <td>Mailed check</td>\n",
       "      <td>53.85</td>\n",
       "      <td>108.15</td>\n",
       "      <td>Yes</td>\n",
       "      <td>1</td>\n",
       "      <td>86</td>\n",
       "      <td>3239</td>\n",
       "      <td>Competitor made better offer</td>\n",
       "      <td>2024-07-17 22:16:02.367461</td>\n",
       "    </tr>\n",
       "    <tr>\n",
       "      <th>1</th>\n",
       "      <td>9237-HQITU</td>\n",
       "      <td>1</td>\n",
       "      <td>United States</td>\n",
       "      <td>California</td>\n",
       "      <td>Los Angeles</td>\n",
       "      <td>90005</td>\n",
       "      <td>34.059281, -118.30742</td>\n",
       "      <td>34.059281</td>\n",
       "      <td>-118.307420</td>\n",
       "      <td>Female</td>\n",
       "      <td>...</td>\n",
       "      <td>Yes</td>\n",
       "      <td>Electronic check</td>\n",
       "      <td>70.70</td>\n",
       "      <td>151.65</td>\n",
       "      <td>Yes</td>\n",
       "      <td>1</td>\n",
       "      <td>67</td>\n",
       "      <td>2701</td>\n",
       "      <td>Moved</td>\n",
       "      <td>2024-07-17 22:16:02.367461</td>\n",
       "    </tr>\n",
       "    <tr>\n",
       "      <th>2</th>\n",
       "      <td>9305-CDSKC</td>\n",
       "      <td>1</td>\n",
       "      <td>United States</td>\n",
       "      <td>California</td>\n",
       "      <td>Los Angeles</td>\n",
       "      <td>90006</td>\n",
       "      <td>34.048013, -118.293953</td>\n",
       "      <td>34.048013</td>\n",
       "      <td>-118.293953</td>\n",
       "      <td>Female</td>\n",
       "      <td>...</td>\n",
       "      <td>Yes</td>\n",
       "      <td>Electronic check</td>\n",
       "      <td>99.65</td>\n",
       "      <td>820.5</td>\n",
       "      <td>Yes</td>\n",
       "      <td>1</td>\n",
       "      <td>86</td>\n",
       "      <td>5372</td>\n",
       "      <td>Moved</td>\n",
       "      <td>2024-07-17 22:16:02.367461</td>\n",
       "    </tr>\n",
       "    <tr>\n",
       "      <th>3</th>\n",
       "      <td>7892-POOKP</td>\n",
       "      <td>1</td>\n",
       "      <td>United States</td>\n",
       "      <td>California</td>\n",
       "      <td>Los Angeles</td>\n",
       "      <td>90010</td>\n",
       "      <td>34.062125, -118.315709</td>\n",
       "      <td>34.062125</td>\n",
       "      <td>-118.315709</td>\n",
       "      <td>Female</td>\n",
       "      <td>...</td>\n",
       "      <td>Yes</td>\n",
       "      <td>Electronic check</td>\n",
       "      <td>104.80</td>\n",
       "      <td>3046.05</td>\n",
       "      <td>Yes</td>\n",
       "      <td>1</td>\n",
       "      <td>84</td>\n",
       "      <td>5003</td>\n",
       "      <td>Moved</td>\n",
       "      <td>2024-07-17 22:16:02.367461</td>\n",
       "    </tr>\n",
       "    <tr>\n",
       "      <th>4</th>\n",
       "      <td>0280-XJGEX</td>\n",
       "      <td>1</td>\n",
       "      <td>United States</td>\n",
       "      <td>California</td>\n",
       "      <td>Los Angeles</td>\n",
       "      <td>90015</td>\n",
       "      <td>34.039224, -118.266293</td>\n",
       "      <td>34.039224</td>\n",
       "      <td>-118.266293</td>\n",
       "      <td>Male</td>\n",
       "      <td>...</td>\n",
       "      <td>Yes</td>\n",
       "      <td>Bank transfer (automatic)</td>\n",
       "      <td>103.70</td>\n",
       "      <td>5036.3</td>\n",
       "      <td>Yes</td>\n",
       "      <td>1</td>\n",
       "      <td>89</td>\n",
       "      <td>5340</td>\n",
       "      <td>Competitor had better devices</td>\n",
       "      <td>2024-07-17 22:16:02.367461</td>\n",
       "    </tr>\n",
       "  </tbody>\n",
       "</table>\n",
       "<p>5 rows × 34 columns</p>\n",
       "</div>"
      ],
      "text/plain": [
       "   CustomerID  Count        Country       State         City  Zip Code  \\\n",
       "0  3668-QPYBK      1  United States  California  Los Angeles     90003   \n",
       "1  9237-HQITU      1  United States  California  Los Angeles     90005   \n",
       "2  9305-CDSKC      1  United States  California  Los Angeles     90006   \n",
       "3  7892-POOKP      1  United States  California  Los Angeles     90010   \n",
       "4  0280-XJGEX      1  United States  California  Los Angeles     90015   \n",
       "\n",
       "                 Lat Long   Latitude   Longitude  Gender  ...  \\\n",
       "0  33.964131, -118.272783  33.964131 -118.272783    Male  ...   \n",
       "1   34.059281, -118.30742  34.059281 -118.307420  Female  ...   \n",
       "2  34.048013, -118.293953  34.048013 -118.293953  Female  ...   \n",
       "3  34.062125, -118.315709  34.062125 -118.315709  Female  ...   \n",
       "4  34.039224, -118.266293  34.039224 -118.266293    Male  ...   \n",
       "\n",
       "  Paperless Billing             Payment Method Monthly Charges  Total Charges  \\\n",
       "0               Yes               Mailed check           53.85         108.15   \n",
       "1               Yes           Electronic check           70.70         151.65   \n",
       "2               Yes           Electronic check           99.65          820.5   \n",
       "3               Yes           Electronic check          104.80        3046.05   \n",
       "4               Yes  Bank transfer (automatic)          103.70         5036.3   \n",
       "\n",
       "  Churn Label Churn Value Churn Score  CLTV                   Churn Reason  \\\n",
       "0         Yes           1          86  3239   Competitor made better offer   \n",
       "1         Yes           1          67  2701                          Moved   \n",
       "2         Yes           1          86  5372                          Moved   \n",
       "3         Yes           1          84  5003                          Moved   \n",
       "4         Yes           1          89  5340  Competitor had better devices   \n",
       "\n",
       "             record_modified  \n",
       "0 2024-07-17 22:16:02.367461  \n",
       "1 2024-07-17 22:16:02.367461  \n",
       "2 2024-07-17 22:16:02.367461  \n",
       "3 2024-07-17 22:16:02.367461  \n",
       "4 2024-07-17 22:16:02.367461  \n",
       "\n",
       "[5 rows x 34 columns]"
      ]
     },
     "execution_count": 6,
     "metadata": {},
     "output_type": "execute_result"
    }
   ],
   "source": [
    "df_sample.head()"
   ]
  },
  {
   "cell_type": "code",
   "execution_count": 106,
   "id": "1547b7c3-5ca7-461b-ab9b-a80ea6033465",
   "metadata": {},
   "outputs": [
    {
     "data": {
      "text/plain": [
       "352"
      ]
     },
     "execution_count": 106,
     "metadata": {},
     "output_type": "execute_result"
    }
   ],
   "source": [
    "df_sample.to_sql('telco_customr_churn_data', con=engine, if_exists='append', index=False,schema = 'telco_schema')"
   ]
  }
 ],
 "metadata": {
  "kernelspec": {
   "display_name": "Python 3 (ipykernel)",
   "language": "python",
   "name": "python3"
  },
  "language_info": {
   "codemirror_mode": {
    "name": "ipython",
    "version": 3
   },
   "file_extension": ".py",
   "mimetype": "text/x-python",
   "name": "python",
   "nbconvert_exporter": "python",
   "pygments_lexer": "ipython3",
   "version": "3.10.8"
  }
 },
 "nbformat": 4,
 "nbformat_minor": 5
}
